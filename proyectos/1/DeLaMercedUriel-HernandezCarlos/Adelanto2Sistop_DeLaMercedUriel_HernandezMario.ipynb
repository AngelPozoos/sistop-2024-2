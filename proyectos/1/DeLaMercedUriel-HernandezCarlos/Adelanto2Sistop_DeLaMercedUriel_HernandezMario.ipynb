{
  "cells": [
    {
      "cell_type": "markdown",
      "source": [
        "\n",
        "# Diseño de lista de archivos, copia, eliminación desde y a nuestra carpeta FIUNAMFS"
      ],
      "metadata": {
        "id": "iVR9-xp3Tsx6"
      },
      "id": "iVR9-xp3Tsx6"
    },
    {
      "cell_type": "markdown",
      "source": [
        "Dejando de lado por este entregable el diseño de la memoria de la entrega uno, procedemos a cumplir los cuatro primeros criterios de evaluación del proyecto, por lo que desde la terminal, listaremos el contenido de un directorio, se podrá copiar uno de los archivos de dentro del directorio FiUnamFS hacia nuestro sistema (para esto primero lo deberemos de asignar), se podrá copiar un archivo de nuestra computadora hacia el directorio FiUnamFS, y fnalmente se podrá eliminar un archivo del FiUnamFS."
      ],
      "metadata": {
        "id": "8HEsyazdWTBM"
      },
      "id": "8HEsyazdWTBM"
    },
    {
      "cell_type": "markdown",
      "source": [
        "Vamos a iniciar diseñando el programa sólo para que liste los archivos de un directorio en específico, este se deberá de hacer de la forma \"C:/Users/Administrador/FIUNAMFS\", aquí tenemos una prueba del programa:"
      ],
      "metadata": {
        "id": "2laz5XhkUwSI"
      },
      "id": "2laz5XhkUwSI"
    },
    {
      "cell_type": "code",
      "execution_count": null,
      "id": "e47428cd-ce83-4d01-94e2-042d1830061c",
      "metadata": {
        "id": "e47428cd-ce83-4d01-94e2-042d1830061c",
        "outputId": "f59c30cb-b214-40a1-9a19-34c4d82d6f4f"
      },
      "outputs": [
        {
          "name": "stdin",
          "output_type": "stream",
          "text": [
            "Ingrese el directorio que desea listar (o 'q' para salir):  C:/Users/benja/Sistop_FIUNAMFS\n"
          ]
        },
        {
          "name": "stdout",
          "output_type": "stream",
          "text": [
            "Contenido del directorio 'C:/Users/benja/Sistop_FIUNAMFS':\n",
            "FIUNAMFS_2024-2_345_343.txt\n"
          ]
        },
        {
          "name": "stdin",
          "output_type": "stream",
          "text": [
            "Ingrese el directorio que desea listar (o 'q' para salir):  q\n"
          ]
        }
      ],
      "source": [
        "import os\n",
        "\n",
        "def list_files_in_directory(directory):\n",
        "    \"\"\"Lista todos los archivos y carpetas en el directorio dado.\"\"\"\n",
        "    try:\n",
        "        # Intenta listar los archivos en el directorio\n",
        "        files = os.listdir(directory)\n",
        "        return files\n",
        "    except Exception as e:\n",
        "        # Muestra un mensaje de error si no puede acceder al directorio\n",
        "        print(f\"No se pudo acceder al directorio: {e}\")\n",
        "        return []\n",
        "\n",
        "def main():\n",
        "    while True:\n",
        "        # Solicita al usuario que ingrese un directorio\n",
        "        directory = input(\"Ingrese el directorio que desea listar (o 's' para salir): \")\n",
        "\n",
        "        if directory.lower() == 's':\n",
        "            # Si el usuario ingresa 'q', salir del programa\n",
        "            break\n",
        "\n",
        "        # Lista los archivos en el directorio ingresado\n",
        "        files = list_files_in_directory(directory)\n",
        "\n",
        "        if files:\n",
        "            print(f\"Contenido del directorio '{directory}':\")\n",
        "            for file in files:\n",
        "                print(file)\n",
        "        else:\n",
        "            print(\"No se encontraron archivos o no se pudo acceder al directorio.\")\n",
        "\n",
        "if __name__ == \"__main__\":\n",
        "    main()"
      ]
    },
    {
      "cell_type": "markdown",
      "source": [
        "Por ahora nuestro programa funciona correctamente, enlista los contenidos de un directorio.\n",
        "Procedemos a cumplir los demás requerimientos del sistema, a continuación nuestro código:"
      ],
      "metadata": {
        "id": "XzIiBROFWNQP"
      },
      "id": "XzIiBROFWNQP"
    },
    {
      "cell_type": "markdown",
      "source": [
        "- list_files_in_directory(directory): Toma un directorio como argumento e intenta listar los archivos y carpetas en él. Si hay un error, muestra un mensaje de error y retorna una lista vacía.\n",
        "- copy_file_to_local(source_directory, filename, destination_directory): Copia un archivo desde un directorio fuente (por ejemplo, FIUNAMFS) a un directorio de destino en el equipo local. Utiliza shutil.copy para realizar la copia y maneja excepciones para errores.\n",
        "- copy_file_to_fiunamfs(source_directory, filename, destination_directory): Copia un archivo desde un directorio local a un directorio FIUNAMFS. Similar a la función anterior, pero para la dirección opuesta.\n",
        "- delete_file(directory, filename): Elimina un archivo de un directorio dado. Utiliza os.remove para eliminar el archivo y maneja excepciones para errores."
      ],
      "metadata": {
        "id": "woZ7UQVmXUKG"
      },
      "id": "woZ7UQVmXUKG"
    },
    {
      "cell_type": "code",
      "execution_count": null,
      "id": "8df9e588-bbf4-485e-a8ac-3d40f3de42d1",
      "metadata": {
        "id": "8df9e588-bbf4-485e-a8ac-3d40f3de42d1",
        "outputId": "26e6e3a0-f37f-4bd7-ad49-bd6359648505"
      },
      "outputs": [
        {
          "name": "stdout",
          "output_type": "stream",
          "text": [
            "\n",
            "Opciones:\n",
            "1. Listar contenidos de una carpeta\n",
            "2. Copiar archivo desde FIUNAMFS a tu equipo\n",
            "3. Copiar archivo desde tu equipo a FIUNAMFS\n",
            "4. Eliminar un archivo\n",
            "5. Salir\n"
          ]
        },
        {
          "name": "stdin",
          "output_type": "stream",
          "text": [
            "Seleccione una opción (1-5):  2\n",
            "Ingrese el directorio FIUNAMFS:  C:/Users/benja/Sistop_FIUNAMFS\n",
            "Ingrese el nombre del archivo a copiar:  FIUNAMFS_2024-2_345_343.txt\n",
            "Ingrese el directorio de destino en su equipo:  C:/Users/benja/sistop\n"
          ]
        },
        {
          "name": "stdout",
          "output_type": "stream",
          "text": [
            "Archivo 'FIUNAMFS_2024-2_345_343.txt' copiado a 'C:/Users/benja/sistop'.\n",
            "\n",
            "Opciones:\n",
            "1. Listar contenidos de una carpeta\n",
            "2. Copiar archivo desde FIUNAMFS a tu equipo\n",
            "3. Copiar archivo desde tu equipo a FIUNAMFS\n",
            "4. Eliminar un archivo\n",
            "5. Salir\n"
          ]
        },
        {
          "name": "stdin",
          "output_type": "stream",
          "text": [
            "Seleccione una opción (1-5):  5\n"
          ]
        },
        {
          "name": "stdout",
          "output_type": "stream",
          "text": [
            "Saliendo del programa.\n"
          ]
        }
      ],
      "source": [
        "import os\n",
        "import shutil\n",
        "\n",
        "def list_files_in_directory(directory):\n",
        "    \"\"\"Lista todos los archivos y carpetas en el directorio dado.\"\"\"\n",
        "    try:\n",
        "        # Intenta listar los archivos en el directorio\n",
        "        files = os.listdir(directory)\n",
        "        return files\n",
        "    except Exception as e:\n",
        "        # Muestra un mensaje de error si no puede acceder al directorio\n",
        "        print(f\"No se pudo acceder al directorio: {e}\")\n",
        "        return []\n",
        "\n",
        "def copy_file_to_local(source_directory, filename, destination_directory):\n",
        "    \"\"\"Copia un archivo desde el directorio fuente al directorio de destino.\"\"\"\n",
        "    source_path = os.path.join(source_directory, filename)\n",
        "    destination_path = os.path.join(destination_directory, filename)\n",
        "    try:\n",
        "        # Intenta copiar el archivo desde el directorio fuente al directorio de destino\n",
        "        shutil.copy(source_path, destination_path)\n",
        "        print(f\"Archivo '{filename}' copiado a '{destination_directory}'.\")\n",
        "    except Exception as e:\n",
        "        # Muestra un mensaje de error si no puede copiar el archivo\n",
        "        print(f\"No se pudo copiar el archivo: {e}\")\n",
        "\n",
        "def copy_file_to_fiunamfs(source_directory, filename, destination_directory):\n",
        "    \"\"\"Copia un archivo desde el directorio local al directorio FIUNAMFS.\"\"\"\n",
        "    source_path = os.path.join(source_directory, filename)\n",
        "    destination_path = os.path.join(destination_directory, filename)\n",
        "    try:\n",
        "        # Intenta copiar el archivo desde el directorio local al directorio FIUNAMFS\n",
        "        shutil.copy(source_path, destination_path)\n",
        "        print(f\"Archivo '{filename}' copiado a '{destination_directory}'.\")\n",
        "    except Exception as e:\n",
        "        # Muestra un mensaje de error si no puede copiar el archivo\n",
        "        print(f\"No se pudo copiar el archivo: {e}\")\n",
        "\n",
        "def delete_file(directory, filename):\n",
        "    \"\"\"Elimina un archivo del directorio dado.\"\"\"\n",
        "    file_path = os.path.join(directory, filename)\n",
        "    try:\n",
        "        # Intenta eliminar el archivo del directorio\n",
        "        os.remove(file_path)\n",
        "        print(f\"Archivo '{filename}' eliminado de '{directory}'.\")\n",
        "    except Exception as e:\n",
        "        # Muestra un mensaje de error si no puede eliminar el archivo\n",
        "        print(f\"No se pudo eliminar el archivo: {e}\")\n",
        "\n",
        "def main():\n",
        "    while True:\n",
        "        # Muestra el menú de opciones al usuario\n",
        "        print(\"\\nOpciones:\")\n",
        "        print(\"1. Listar contenidos de una carpeta\")\n",
        "        print(\"2. Copiar archivo desde FIUNAMFS a tu equipo\")\n",
        "        print(\"3. Copiar archivo desde tu equipo a FIUNAMFS\")\n",
        "        print(\"4. Eliminar un archivo\")\n",
        "        print(\"5. Salir\")\n",
        "\n",
        "        # Solicita al usuario que seleccione una opción\n",
        "        choice = input(\"Seleccione una opción (1-5): \")\n",
        "\n",
        "        if choice == '1':\n",
        "            # Lista los contenidos de una carpeta\n",
        "            directory = input(\"Ingrese el directorio que desea listar: \")\n",
        "            files = list_files_in_directory(directory)\n",
        "            if files:\n",
        "                print(f\"Contenido del directorio '{directory}':\")\n",
        "                for file in files:\n",
        "                    print(file)\n",
        "            else:\n",
        "                print(\"No se encontraron archivos o no se pudo acceder al directorio.\")\n",
        "\n",
        "        elif choice == '2':\n",
        "            # Copia un archivo desde FIUNAMFS a tu equipo\n",
        "            source_directory = input(\"Ingrese el directorio FIUNAMFS: \")\n",
        "            filename = input(\"Ingrese el nombre del archivo a copiar: \")\n",
        "            destination_directory = input(\"Ingrese el directorio de destino en su equipo: \")\n",
        "            copy_file_to_local(source_directory, filename, destination_directory)\n",
        "\n",
        "        elif choice == '3':\n",
        "            # Copia un archivo desde tu equipo a FIUNAMFS\n",
        "            source_directory = input(\"Ingrese el directorio de origen en su equipo: \")\n",
        "            filename = input(\"Ingrese el nombre del archivo a copiar: \")\n",
        "            destination_directory = input(\"Ingrese el directorio FIUNAMFS: \")\n",
        "            copy_file_to_fiunamfs(source_directory, filename, destination_directory)\n",
        "\n",
        "        elif choice == '4':\n",
        "            # Elimina un archivo\n",
        "            directory = input(\"Ingrese el directorio del archivo: \")\n",
        "            filename = input(\"Ingrese el nombre del archivo a eliminar: \")\n",
        "            delete_file(directory, filename)\n",
        "\n",
        "        elif choice == '5':\n",
        "            # Sale del programa\n",
        "            print(\"Saliendo del programa.\")\n",
        "            break\n",
        "\n",
        "        else:\n",
        "            # Maneja una opción no válida\n",
        "            print(\"Opción no válida. Por favor, seleccione una opción del 1 al 5.\")\n",
        "\n",
        "if __name__ == \"__main__\":\n",
        "    # Verifica si el script se está ejecutando como el programa principal\n",
        "    main()"
      ]
    },
    {
      "cell_type": "markdown",
      "source": [
        "Nuestro programa realiza lo especificado, lista contenidos de una carpeta dada, al pedir que se ingrese el directorio FUNAMFS, le otorgamos la dirección en la que está nuestro directorio; y a partir de esto, puede copiar archivos a nuestro equipo, o eliminar archivos del directorio FINUAMFS"
      ],
      "metadata": {
        "id": "WP6ddjP8Xm-0"
      },
      "id": "WP6ddjP8Xm-0"
    }
  ],
  "metadata": {
    "kernelspec": {
      "display_name": "Python 3 (ipykernel)",
      "language": "python",
      "name": "python3"
    },
    "language_info": {
      "codemirror_mode": {
        "name": "ipython",
        "version": 3
      },
      "file_extension": ".py",
      "mimetype": "text/x-python",
      "name": "python",
      "nbconvert_exporter": "python",
      "pygments_lexer": "ipython3",
      "version": "3.11.7"
    },
    "colab": {
      "provenance": []
    }
  },
  "nbformat": 4,
  "nbformat_minor": 5
}