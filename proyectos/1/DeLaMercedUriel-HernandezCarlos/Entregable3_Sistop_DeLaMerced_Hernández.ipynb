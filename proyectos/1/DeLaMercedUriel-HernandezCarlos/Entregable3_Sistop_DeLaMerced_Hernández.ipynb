{
  "cells": [
    {
      "cell_type": "markdown",
      "source": [
        "Comenzamos a experimentar los hilos en nuestro sistema, para loq que realizamos un prototipo, con el entregable 2."
      ],
      "metadata": {
        "id": "bzziwUMZdnij"
      },
      "id": "bzziwUMZdnij"
    },
    {
      "cell_type": "code",
      "execution_count": null,
      "id": "99176f5b-03db-4efc-9028-a0485c524dd2",
      "metadata": {
        "id": "99176f5b-03db-4efc-9028-a0485c524dd2",
        "outputId": "f4bdc6ed-08ca-4d62-e003-7cff531895da"
      },
      "outputs": [
        {
          "name": "stdout",
          "output_type": "stream",
          "text": [
            "\n",
            "Opciones:\n",
            "1. Listar contenidos de una carpeta\n",
            "2. Copiar archivo desde FIUNAMFS a tu equipo\n",
            "3. Copiar archivo desde tu equipo a FIUNAMFS\n",
            "4. Eliminar un archivo\n",
            "5. Iniciar Hilos\n",
            "5. Salir\n"
          ]
        },
        {
          "name": "stdin",
          "output_type": "stream",
          "text": [
            "Seleccione una opción (1-6):  5\n",
            "Ingrese el directorio FIUNAMFS:  C:/Users/benja/Sistop_UNAMFIFS\n"
          ]
        },
        {
          "name": "stderr",
          "output_type": "stream",
          "text": [
            "Exception in thread Thread-5 (list_files_task):\n",
            "Traceback (most recent call last):\n",
            "  File \"D:\\anaconda3\\Lib\\threading.py\", line 1045, in _bootstrap_inner\n",
            "    self.run()\n",
            "  File \"D:\\anaconda3\\Lib\\threading.py\", line 982, in run\n",
            "    self._target(*self._args, **self._kwargs)\n",
            "  File \"C:\\Users\\benja\\AppData\\Local\\Temp\\ipykernel_22716\\1033316051.py\", line 58, in list_files_task\n",
            "NameError: name 'SOURCE_DIRECTORY' is not defined\n"
          ]
        }
      ],
      "source": [
        "import threading\n",
        "import time\n",
        "import os\n",
        "import shutil\n",
        "\n",
        "# Semáforo para la sincronización entre hilos\n",
        "semaphore = threading.Semaphore(0)\n",
        "\n",
        "def list_files_in_directory(directory):\n",
        "    \"\"\"Lista todos los archivos y carpetas en el directorio dado.\"\"\"\n",
        "    try:\n",
        "        # Intenta listar los archivos en el directorio\n",
        "        files = os.listdir(directory)\n",
        "        return files\n",
        "    except Exception as e:\n",
        "        # Muestra un mensaje de error si no puede acceder al directorio\n",
        "        print(f\"No se pudo acceder al directorio: {e}\")\n",
        "        return []\n",
        "\n",
        "def copy_file_to_local(source_directory, filename, destination_directory):\n",
        "    \"\"\"Copia un archivo desde el directorio fuente al directorio de destino.\"\"\"\n",
        "    source_path = os.path.join(source_directory, filename)\n",
        "    destination_path = os.path.join(destination_directory, filename)\n",
        "    try:\n",
        "        # Intenta copiar el archivo desde el directorio fuente al directorio de destino\n",
        "        shutil.copy(source_path, destination_path)\n",
        "        print(f\"Archivo '{filename}' copiado a '{destination_directory}'.\")\n",
        "    except Exception as e:\n",
        "        # Muestra un mensaje de error si no puede copiar el archivo\n",
        "        print(f\"No se pudo copiar el archivo: {e}\")\n",
        "\n",
        "def copy_file_to_fiunamfs(source_directory, filename, destination_directory):\n",
        "    \"\"\"Copia un archivo desde el directorio local al directorio FIUNAMFS.\"\"\"\n",
        "    source_path = os.path.join(source_directory, filename)\n",
        "    destination_path = os.path.join(destination_directory, filename)\n",
        "    try:\n",
        "        # Intenta copiar el archivo desde el directorio local al directorio FIUNAMFS\n",
        "        shutil.copy(source_path, destination_path)\n",
        "        print(f\"Archivo '{filename}' copiado a '{destination_directory}'.\")\n",
        "    except Exception as e:\n",
        "        # Muestra un mensaje de error si no puede copiar el archivo\n",
        "        print(f\"No se pudo copiar el archivo: {e}\")\n",
        "\n",
        "def delete_file(directory, filename):\n",
        "    \"\"\"Elimina un archivo del directorio dado.\"\"\"\n",
        "    file_path = os.path.join(directory, filename)\n",
        "    try:\n",
        "        # Intenta eliminar el archivo del directorio\n",
        "        os.remove(file_path)\n",
        "        print(f\"Archivo '{filename}' eliminado de '{directory}'.\")\n",
        "    except Exception as e:\n",
        "        # Muestra un mensaje de error si no puede eliminar el archivo\n",
        "        print(f\"No se pudo eliminar el archivo: {e}\")\n",
        "\n",
        "def list_files_task():\n",
        "    \"\"\"Hilo para listar los archivos en un directorio.\"\"\"\n",
        "    while True:\n",
        "        files = list_files_in_directory(SOURCE_DIRECTORY)\n",
        "        if files:\n",
        "            print(f\"Contenido del directorio '{SOURCE_DIRECTORY}':\")\n",
        "            for file in files:\n",
        "                print(file)\n",
        "        else:\n",
        "            print(\"No se encontraron archivos o no se pudo acceder al directorio.\")\n",
        "        semaphore.release()\n",
        "        time.sleep(10)\n",
        "\n",
        "def copy_file_task():\n",
        "    \"\"\"Hilo para copiar un archivo específico.\"\"\"\n",
        "    while True:\n",
        "        semaphore.acquire()\n",
        "        filename = 'example.txt'\n",
        "        copy_file(SOURCE_DIRECTORY, filename, DESTINATION_DIRECTORY)\n",
        "        time.sleep(10)\n",
        "\n",
        "\n",
        "def main():\n",
        "    while True:\n",
        "        # Muestra el menú de opciones al usuario\n",
        "        print(\"\\nOpciones:\")\n",
        "        print(\"1. Listar contenidos de una carpeta\")\n",
        "        print(\"2. Copiar archivo desde FIUNAMFS a tu equipo\")\n",
        "        print(\"3. Copiar archivo desde tu equipo a FIUNAMFS\")\n",
        "        print(\"4. Eliminar un archivo\")\n",
        "        print(\"5. Iniciar Hilos\")\n",
        "        print(\"5. Salir\")\n",
        "\n",
        "        # Solicita al usuario que seleccione una opción\n",
        "        choice = input(\"Seleccione una opción (1-6): \")\n",
        "\n",
        "        if choice == '1':\n",
        "            # Lista los contenidos de una carpeta\n",
        "            directory = input(\"Ingrese el directorio que desea listar: \")\n",
        "            files = list_files_in_directory(directory)\n",
        "            if files:\n",
        "                print(f\"Contenido del directorio '{directory}':\")\n",
        "                for file in files:\n",
        "                    print(file)\n",
        "            else:\n",
        "                print(\"No se encontraron archivos o no se pudo acceder al directorio.\")\n",
        "\n",
        "        elif choice == '2':\n",
        "            # Copia un archivo desde FIUNAMFS a tu equipo\n",
        "            source_directory = input(\"Ingrese el directorio FIUNAMFS: \")\n",
        "            filename = input(\"Ingrese el nombre del archivo a copiar: \")\n",
        "            destination_directory = input(\"Ingrese el directorio de destino en su equipo: \")\n",
        "            copy_file_to_local(source_directory, filename, destination_directory)\n",
        "\n",
        "        elif choice == '3':\n",
        "            # Copia un archivo desde tu equipo a FIUNAMFS\n",
        "            source_directory = input(\"Ingrese el directorio de origen en su equipo: \")\n",
        "            filename = input(\"Ingrese el nombre del archivo a copiar: \")\n",
        "            destination_directory = input(\"Ingrese el directorio FIUNAMFS: \")\n",
        "            copy_file_to_fiunamfs(source_directory, filename, destination_directory)\n",
        "\n",
        "        elif choice == '4':\n",
        "            # Elimina un archivo\n",
        "            directory = input(\"Ingrese el directorio del archivo: \")\n",
        "            filename = input(\"Ingrese el nombre del archivo a eliminar: \")\n",
        "            delete_file(directory, filename)\n",
        "\n",
        "        elif choice == '5':\n",
        "            # Crear e iniciar los hilos\n",
        "            SOURCE_DIRECTORY = input(\"Ingrese el directorio FIUNAMFS: \")\n",
        "            list_files_thread = threading.Thread(target=list_files_task)\n",
        "            copy_file_thread = threading.Thread(target=copy_file_task)\n",
        "            # Iniciar los hilo\n",
        "            list_files_thread.start()\n",
        "            copy_file_thread.start()\n",
        "            # Esperar a que los hilos terminen (en este caso, nunca terminarán debido al bucle infinito)\n",
        "            list_files_thread.join()\n",
        "            copy_file_thread.join()\n",
        "\n",
        "\n",
        "        elif choice == '6':\n",
        "            # Sale del programa\n",
        "            print(\"Saliendo del programa.\")\n",
        "            break\n",
        "\n",
        "        else:\n",
        "            # Maneja una opción no válida\n",
        "            print(\"Opción no válida. Por favor, seleccione una opción del 1 al 5.\")\n",
        "\n",
        "if __name__ == \"__main__\":\n",
        "    # Verifica si el script se está ejecutando como el programa principal\n",
        "    main()"
      ]
    },
    {
      "cell_type": "markdown",
      "source": [
        "Como podemos observar, existen errores en el programa, para lo que quedará para resolver en la suguiente entrega."
      ],
      "metadata": {
        "id": "ldbr4sfQeCkI"
      },
      "id": "ldbr4sfQeCkI"
    },
    {
      "cell_type": "markdown",
      "source": [],
      "metadata": {
        "id": "0z2ghclzeBJ8"
      },
      "id": "0z2ghclzeBJ8"
    }
  ],
  "metadata": {
    "kernelspec": {
      "display_name": "Python 3 (ipykernel)",
      "language": "python",
      "name": "python3"
    },
    "language_info": {
      "codemirror_mode": {
        "name": "ipython",
        "version": 3
      },
      "file_extension": ".py",
      "mimetype": "text/x-python",
      "name": "python",
      "nbconvert_exporter": "python",
      "pygments_lexer": "ipython3",
      "version": "3.11.7"
    },
    "colab": {
      "provenance": []
    }
  },
  "nbformat": 4,
  "nbformat_minor": 5
}